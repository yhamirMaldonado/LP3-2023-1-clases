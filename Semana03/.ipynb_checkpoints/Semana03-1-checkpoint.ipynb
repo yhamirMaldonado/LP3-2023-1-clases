{
 "cells": [
  {
   "cell_type": "markdown",
   "id": "3c64c9c4",
   "metadata": {},
   "source": [
    "# Semana03\n",
    "ing Yhamir Maldonado Vanegas"
   ]
  },
  {
   "cell_type": "code",
   "execution_count": 1,
   "id": "5325853f",
   "metadata": {},
   "outputs": [
    {
     "data": {
      "text/plain": [
       "50.0"
      ]
     },
     "execution_count": 1,
     "metadata": {},
     "output_type": "execute_result"
    }
   ],
   "source": [
    "cadena2 = \"50\"\n",
    "numero2 = float(cadena2)\n",
    "numero2"
   ]
  },
  {
   "cell_type": "code",
   "execution_count": null,
   "id": "dbd2f634",
   "metadata": {},
   "outputs": [],
   "source": []
  }
 ],
 "metadata": {
  "kernelspec": {
   "display_name": "Python 3 (ipykernel)",
   "language": "python",
   "name": "python3"
  },
  "language_info": {
   "codemirror_mode": {
    "name": "ipython",
    "version": 3
   },
   "file_extension": ".py",
   "mimetype": "text/x-python",
   "name": "python",
   "nbconvert_exporter": "python",
   "pygments_lexer": "ipython3",
   "version": "3.9.12"
  }
 },
 "nbformat": 4,
 "nbformat_minor": 5
}
